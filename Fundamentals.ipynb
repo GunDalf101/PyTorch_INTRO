{
 "cells": [
  {
   "cell_type": "markdown",
   "id": "cc284113-6680-46fa-8909-b8b67310810d",
   "metadata": {
    "scrolled": true
   },
   "source": [
    "# PyTorch Fundamentals\n",
    "\n",
    "In this notebook i'll be learning PyTorch and practicing the fundamentals? "
   ]
  },
  {
   "cell_type": "code",
   "execution_count": 1,
   "id": "c4129559-22c5-4a61-aa43-9824c22593cd",
   "metadata": {},
   "outputs": [
    {
     "name": "stdout",
     "output_type": "stream",
     "text": [
      "2.2.2+cu118\n"
     ]
    }
   ],
   "source": [
    "import torch\n",
    "import pandas as pd\n",
    "import numpy as np\n",
    "import matplotlib as plt\n",
    "print(torch.__version__)"
   ]
  },
  {
   "cell_type": "code",
   "execution_count": 2,
   "id": "cdc0e472-1bfd-464b-87eb-96abd6816f7d",
   "metadata": {},
   "outputs": [
    {
     "name": "stdout",
     "output_type": "stream",
     "text": [
      "Using device: cuda\n"
     ]
    }
   ],
   "source": [
    "device = torch.device(\"cuda\" if torch.cuda.is_available() else \"cpu\")\n",
    "print(\"Using device:\", device)"
   ]
  },
  {
   "cell_type": "markdown",
   "id": "103ff733-5345-4dbf-8de8-092f798b9509",
   "metadata": {},
   "source": [
    "## Introduction to Tensors\n",
    "\n",
    "### Creating Tensors\n",
    "\n",
    "Tensors in PyTorch and ML i general refer simply to Multidimensional arrays that support algebraic operations.\n",
    "\n",
    "One can create PyTorch tensors using `torch.tensor()`.\n",
    "Read More: https://docs.pytorch.org/docs/stable/tensors.html"
   ]
  },
  {
   "cell_type": "code",
   "execution_count": 3,
   "id": "85456e89-9986-4888-8c2f-01061fcf6142",
   "metadata": {},
   "outputs": [
    {
     "data": {
      "text/plain": [
       "tensor(7)"
      ]
     },
     "execution_count": 3,
     "metadata": {},
     "output_type": "execute_result"
    }
   ],
   "source": [
    "# Scalar\n",
    "scalar = torch.tensor(7)\n",
    "scalar"
   ]
  },
  {
   "cell_type": "code",
   "execution_count": 4,
   "id": "bf1342cf-6db6-4fd3-90ef-7131cc81ba37",
   "metadata": {},
   "outputs": [
    {
     "data": {
      "text/plain": [
       "0"
      ]
     },
     "execution_count": 4,
     "metadata": {},
     "output_type": "execute_result"
    }
   ],
   "source": [
    "scalar.ndim"
   ]
  },
  {
   "cell_type": "code",
   "execution_count": 5,
   "id": "2dfa0d55-d498-48a4-9d4f-baa8a8e194a1",
   "metadata": {},
   "outputs": [
    {
     "data": {
      "text/plain": [
       "tensor([2, 9])"
      ]
     },
     "execution_count": 5,
     "metadata": {},
     "output_type": "execute_result"
    }
   ],
   "source": [
    "# Vector\n",
    "vec = torch.tensor([2, 9])\n",
    "vec"
   ]
  },
  {
   "cell_type": "code",
   "execution_count": 6,
   "id": "41357f1e-444b-4816-a54d-c3f08ed21692",
   "metadata": {},
   "outputs": [
    {
     "data": {
      "text/plain": [
       "1"
      ]
     },
     "execution_count": 6,
     "metadata": {},
     "output_type": "execute_result"
    }
   ],
   "source": [
    "vec.ndim"
   ]
  },
  {
   "cell_type": "code",
   "execution_count": 7,
   "id": "a943b7ce-2896-4937-ac36-0a8141fa418d",
   "metadata": {},
   "outputs": [
    {
     "data": {
      "text/plain": [
       "tensor([[3, 8],\n",
       "        [6, 9]])"
      ]
     },
     "execution_count": 7,
     "metadata": {},
     "output_type": "execute_result"
    }
   ],
   "source": [
    "# MATRIX\n",
    "MATRIX = torch.tensor([[3, 8], [6, 9]])\n",
    "MATRIX"
   ]
  },
  {
   "cell_type": "code",
   "execution_count": 8,
   "id": "05466f0e-1552-4f28-b179-a22997b5a8c1",
   "metadata": {},
   "outputs": [
    {
     "data": {
      "text/plain": [
       "2"
      ]
     },
     "execution_count": 8,
     "metadata": {},
     "output_type": "execute_result"
    }
   ],
   "source": [
    "MATRIX.ndim"
   ]
  },
  {
   "cell_type": "code",
   "execution_count": 9,
   "id": "575d3c54-ac45-41a0-9026-47147298062b",
   "metadata": {},
   "outputs": [
    {
     "data": {
      "text/plain": [
       "tensor([[[1, 2, 3],\n",
       "         [4, 5, 6],\n",
       "         [7, 8, 9]]])"
      ]
     },
     "execution_count": 9,
     "metadata": {},
     "output_type": "execute_result"
    }
   ],
   "source": [
    "# TENSOR (3D+)\n",
    "TENSOR = torch.tensor([[[1, 2, 3],\n",
    "                        [4, 5, 6],\n",
    "                        [7, 8, 9]]])\n",
    "TENSOR"
   ]
  },
  {
   "cell_type": "code",
   "execution_count": 10,
   "id": "698a3004-2710-45c2-aea1-82ac57623c50",
   "metadata": {},
   "outputs": [
    {
     "data": {
      "text/plain": [
       "3"
      ]
     },
     "execution_count": 10,
     "metadata": {},
     "output_type": "execute_result"
    }
   ],
   "source": [
    "TENSOR.ndim"
   ]
  },
  {
   "cell_type": "markdown",
   "id": "18cf1156-1484-40a5-8207-91e17cd095a2",
   "metadata": {},
   "source": [
    "### Random Tensors\n",
    "\n",
    "Why would you want a random tensor?\n",
    "\n",
    "Many neural networks require starting with a randomized tensor so it can adjust them to represent the data more accuratly."
   ]
  },
  {
   "cell_type": "code",
   "execution_count": 21,
   "id": "d5892866-2f5b-4bcd-a8a2-18f68135f239",
   "metadata": {},
   "outputs": [
    {
     "data": {
      "text/plain": [
       "tensor([[0.6551, 0.5484, 0.2434, 0.9424, 0.9975],\n",
       "        [0.0857, 0.4722, 0.4239, 0.2258, 0.9056],\n",
       "        [0.1179, 0.9911, 0.8314, 0.5813, 0.0083],\n",
       "        [0.3321, 0.1065, 0.5113, 0.3340, 0.3915]])"
      ]
     },
     "execution_count": 21,
     "metadata": {},
     "output_type": "execute_result"
    }
   ],
   "source": [
    "# Create a random tensor of size (4, 5)\n",
    "random_tensor = torch.rand(4, 5)\n",
    "random_tensor"
   ]
  },
  {
   "cell_type": "code",
   "execution_count": 22,
   "id": "47b9b560-9092-437c-ac7d-44ad78d2b16d",
   "metadata": {},
   "outputs": [
    {
     "data": {
      "text/plain": [
       "tensor([[6.5509, 5.4837, 2.4343, 9.4236, 9.9755],\n",
       "        [0.8575, 4.7216, 4.2390, 2.2576, 9.0562],\n",
       "        [1.1793, 9.9113, 8.3143, 5.8134, 0.0833],\n",
       "        [3.3212, 1.0654, 5.1127, 3.3400, 3.9154]])"
      ]
     },
     "execution_count": 22,
     "metadata": {},
     "output_type": "execute_result"
    }
   ],
   "source": [
    "random_tensor.multiply(10)"
   ]
  },
  {
   "cell_type": "code",
   "execution_count": 23,
   "id": "4dbcf4ec-b797-4101-8aad-4953fdce5da3",
   "metadata": {},
   "outputs": [
    {
     "data": {
      "text/plain": [
       "2"
      ]
     },
     "execution_count": 23,
     "metadata": {},
     "output_type": "execute_result"
    }
   ],
   "source": [
    "random_tensor.ndim"
   ]
  },
  {
   "cell_type": "code",
   "execution_count": null,
   "id": "9ad017c4-ee39-42f7-9cd7-da57b9d934fe",
   "metadata": {},
   "outputs": [],
   "source": []
  }
 ],
 "metadata": {
  "kernelspec": {
   "display_name": "Python 3 (ipykernel)",
   "language": "python",
   "name": "python3"
  },
  "language_info": {
   "codemirror_mode": {
    "name": "ipython",
    "version": 3
   },
   "file_extension": ".py",
   "mimetype": "text/x-python",
   "name": "python",
   "nbconvert_exporter": "python",
   "pygments_lexer": "ipython3",
   "version": "3.12.3"
  }
 },
 "nbformat": 4,
 "nbformat_minor": 5
}
